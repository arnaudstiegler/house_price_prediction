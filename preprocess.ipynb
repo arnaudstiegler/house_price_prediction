{
 "cells": [
  {
   "cell_type": "code",
   "execution_count": 21,
   "metadata": {},
   "outputs": [],
   "source": [
    "import lightgbm as lgbm\n",
    "import pandas as pd\n",
    "import numpy as np"
   ]
  },
  {
   "cell_type": "code",
   "execution_count": 22,
   "metadata": {
    "collapsed": true
   },
   "outputs": [],
   "source": [
    "df = pd.read_csv('data/rollingsales_bronx.csv',sep=';')"
   ]
  },
  {
   "cell_type": "code",
   "execution_count": 23,
   "metadata": {},
   "outputs": [
    {
     "data": {
      "text/plain": [
       "[]"
      ]
     },
     "execution_count": 23,
     "metadata": {},
     "output_type": "execute_result"
    }
   ],
   "source": [
    "df.columns[df.isna().any()].tolist()"
   ]
  },
  {
   "cell_type": "code",
   "execution_count": 24,
   "metadata": {},
   "outputs": [
    {
     "data": {
      "text/plain": [
       "Index([u'BOROUGH', u'NEIGHBORHOOD', u'BUILDING_CLASS_CATEGORY',\n",
       "       u'TAX_CLASS_AT_PRESENT', u'BLOCK', u'LOT', u'EASE-MENT',\n",
       "       u'BUILDING_CLASS_AT_PRESENT', u'ADDRESS', u'APARTMENT_NUMBER',\n",
       "       u'ZIP_CODE', u'RESIDENTIAL_UNITS', u'COMMERCIAL_UNITS', u'TOTAL_UNITS',\n",
       "       u'LAND_SQUARE_FEET', u'GROSS_SQUARE_FEET', u'YEAR_BUILT',\n",
       "       u'TAX_CLASS_AT_TIME_OF_SALE', u'BUILDING_CLASS_AT_TIME_OF_SALE',\n",
       "       u'_SALE_PRICE_', u'SALE_DATE'],\n",
       "      dtype='object')"
      ]
     },
     "execution_count": 24,
     "metadata": {},
     "output_type": "execute_result"
    }
   ],
   "source": [
    "df.columns = df.columns.str.replace(' ','_')\n",
    "df.columns"
   ]
  },
  {
   "cell_type": "code",
   "execution_count": 25,
   "metadata": {
    "collapsed": true
   },
   "outputs": [],
   "source": [
    "#Dropping very sparse columns\n",
    "df = df.drop(['EASE-MENT','APARTMENT_NUMBER'],axis=1)"
   ]
  },
  {
   "cell_type": "code",
   "execution_count": 26,
   "metadata": {},
   "outputs": [],
   "source": [
    "#Dropping houses with missing price\n",
    "df = df[df['_SALE_PRICE_'] != \" $-   \"]\n"
   ]
  },
  {
   "cell_type": "code",
   "execution_count": 27,
   "metadata": {},
   "outputs": [],
   "source": [
    "df['SALE_DATE'] = pd.to_datetime(df['SALE_DATE'],format='%d/%m/%Y')\n",
    "df['_SALE_PRICE_'] = df['_SALE_PRICE_'].apply(lambda x:x.replace(' ','').replace('$',''))\n",
    "df['year'] = df['SALE_DATE'].apply(lambda x:x.year)\n",
    "df['month'] = df['SALE_DATE'].apply(lambda x:x.month)\n",
    "df['weekday'] = df['SALE_DATE'].apply(lambda x:x.weekday())"
   ]
  },
  {
   "cell_type": "code",
   "execution_count": 28,
   "metadata": {},
   "outputs": [],
   "source": [
    "def clean_df(filename):\n",
    "    df = pd.read_csv('data/'+filename,sep=';')\n",
    "    df.columns = df.columns.str.replace(' ','_')\n",
    "    #Dropping very sparse columns\n",
    "    df = df.drop(['EASE-MENT','APARTMENT_NUMBER'],axis=1)\n",
    "    \n",
    "    #Dropping houses with missing price\n",
    "    df = df[df['_SALE_PRICE_'] != \" $-   \"]\n",
    "    \n",
    "    num_cols = df._get_numeric_data().columns\n",
    "    \n",
    "    df['SALE_DATE'] = pd.to_datetime(df['SALE_DATE'],format='%d/%m/%Y')\n",
    "    df['_SALE_PRICE_'] = df['_SALE_PRICE_'].apply(lambda x:int(x.replace(' ','').replace('$','')))\n",
    "    df['year'] = df['SALE_DATE'].apply(lambda x:x.year)\n",
    "    df['month'] = df['SALE_DATE'].apply(lambda x:x.month)\n",
    "    df['weekday'] = df['SALE_DATE'].apply(lambda x:x.weekday())\n",
    "    df = df.drop(['SALE_DATE'],axis=1)\n",
    "    \n",
    "    return df\n",
    "    "
   ]
  },
  {
   "cell_type": "code",
   "execution_count": 29,
   "metadata": {},
   "outputs": [
    {
     "data": {
      "text/plain": [
       "(57685, 21)"
      ]
     },
     "execution_count": 29,
     "metadata": {},
     "output_type": "execute_result"
    }
   ],
   "source": [
    "df1 = clean_df('rollingsales_bronx.csv')\n",
    "df2 = clean_df('rollingsales_brooklyn.csv')\n",
    "df3 = clean_df('rollingsales_manhattan.csv')\n",
    "df4 = clean_df('rollingsales_queens.csv')\n",
    "df5 = clean_df('rollingsales_statenisland.csv')\n",
    "\n",
    "df=pd.concat([df1,df2,df3,df4,df5])\n",
    "df.shape"
   ]
  },
  {
   "cell_type": "code",
   "execution_count": 30,
   "metadata": {
    "collapsed": true
   },
   "outputs": [],
   "source": [
    "df.to_csv('data/merged_df.csv')"
   ]
  }
 ],
 "metadata": {
  "kernelspec": {
   "display_name": "Python 2",
   "language": "python",
   "name": "python2"
  },
  "language_info": {
   "codemirror_mode": {
    "name": "ipython",
    "version": 2
   },
   "file_extension": ".py",
   "mimetype": "text/x-python",
   "name": "python",
   "nbconvert_exporter": "python",
   "pygments_lexer": "ipython2",
   "version": "2.7.15rc1"
  }
 },
 "nbformat": 4,
 "nbformat_minor": 2
}
